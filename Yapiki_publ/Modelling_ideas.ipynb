{
 "cells": [
  {
   "cell_type": "markdown",
   "id": "befd637f",
   "metadata": {},
   "source": [
    "# Modelling\n",
    "\n",
    "#### Идеи, которые мы тестировали в рамках настройки модели \n",
    "\n",
    "Часть из них вошли в итоговое решение, некоторые были отвергнуты, так как не дали ощутимого прироста в метриках"
   ]
  },
  {
   "cell_type": "markdown",
   "id": "f61ea32d",
   "metadata": {},
   "source": [
    "Обогащение данных сторонними датасетами (население и средняя заработная плата по регионам)"
   ]
  },
  {
   "cell_type": "code",
   "execution_count": null,
   "id": "bcecab4a",
   "metadata": {},
   "outputs": [],
   "source": [
    "city_population = pd.read_csv('city_population.csv')\n",
    "zarplaty = pd.read_excel('zarplaty.xlsx')\n",
    "\n",
    "city_population_clean = city_population.groupby('settlement').agg({'population':'sum'}).reset_index()\n",
    "city_population_clean.columns = ['city', 'city_population']\n",
    "city_population_clean['city_population']\n",
    "city_population_clean.city = city_population_clean.city.apply(lambda x: x.lower())\n",
    "df = df.merge(city_population_clean, on = 'city', how='left')\n",
    "     \n",
    "df = df.merge(zarplaty, on = 'region', how='left')\n",
    "df['zarplata'] = pd.to_numeric(df['zarplata'], downcast = 'unsigned')\n",
    "df['floor_type'] = df['floor'].apply(lambda x: floor_type(x))"
   ]
  },
  {
   "cell_type": "markdown",
   "id": "4149864e",
   "metadata": {},
   "source": [
    "Группировка населенных пунктов по численности населения и выделение столиц"
   ]
  },
  {
   "cell_type": "code",
   "execution_count": null,
   "id": "db23f500",
   "metadata": {},
   "outputs": [],
   "source": [
    "def city_type(row):\n",
    "    if row >=1000000:\n",
    "        return \"1Million\"\n",
    "    elif  (row<1000000)&(row >200000):\n",
    "        return \"Medium\"\n",
    "    elif  (row <=200000):\n",
    "        return \"Small\"\n",
    "\n",
    "df['city_type'] = df['city_population'].apply(lambda x: city_type(x))\n",
    "df.loc[df.city  == 'москва', 'city_type'] = \"Capital\"\n",
    "df.loc[df.city  == 'санкт-Петербург', 'city_type'] = \"Capital\""
   ]
  },
  {
   "cell_type": "markdown",
   "id": "a8a362e3",
   "metadata": {},
   "source": [
    "Преобразование строковых значений этажей в категории 0 и 1 "
   ]
  },
  {
   "cell_type": "code",
   "execution_count": null,
   "id": "aeea6ae8",
   "metadata": {},
   "outputs": [],
   "source": [
    "def floor_type(row):\n",
    "    if ('1' in str(row))&(row!=-1):\n",
    "        return 1\n",
    "    else:\n",
    "        return 0"
   ]
  },
  {
   "cell_type": "markdown",
   "id": "22dc1293",
   "metadata": {},
   "source": [
    "Добавление возраста построек в качестве нового признака"
   ]
  },
  {
   "cell_type": "code",
   "execution_count": null,
   "id": "14b4ee24",
   "metadata": {},
   "outputs": [],
   "source": [
    "df['age'] = round(2021 - df['reform_mean_year_building_500'])"
   ]
  },
  {
   "cell_type": "markdown",
   "id": "6c8db895",
   "metadata": {},
   "source": [
    "Сокращение широты и долготы и создание нового признака путем объединения через “_”"
   ]
  },
  {
   "cell_type": "code",
   "execution_count": null,
   "id": "29b93d19",
   "metadata": {},
   "outputs": [],
   "source": [
    "i = 2\n",
    "data['lat_'+str(i)] = data['lat'].round(i)\n",
    "data['lng_'+str(i)] = data['lng'].round(i)\n",
    "data['square_ll'+str(i)] = data['lat_'+str(i)].astype(str) + '_' + data['lng_'+str(i)].astype(str)"
   ]
  },
  {
   "cell_type": "markdown",
   "id": "9f9ebb39",
   "metadata": {},
   "source": [
    "Группировка по типам недвижимости и расчет средней цены квадратного метра по группе в качестве нового признака"
   ]
  },
  {
   "cell_type": "code",
   "execution_count": null,
   "id": "2c4a927f",
   "metadata": {},
   "outputs": [],
   "source": [
    "temp = (\n",
    "    train_data.groupby('realty_type')['per_square_meter_price'].agg(['mean'])\n",
    "    .rename({'mean':'per_square_meter_price_mean'},axis=1)\n",
    ")\n",
    "\n",
    "train_data = pd.merge(train_data, temp, on='realty_type',how='left')\n",
    "test_data = pd.merge(test_data, temp, on='realty_type',how='left')"
   ]
  },
  {
   "cell_type": "markdown",
   "id": "3808a37d",
   "metadata": {},
   "source": [
    "Cоздание нового признака “среднее количество объектов на 100 м” из признаков типа “количество объектов в радиусе 1 км”, “в радиусе 750 м”, в радиусе “500 м” и удаление “лишних” признаков - для признака с высоким коэффициентом корреляции с целевой переменной"
   ]
  },
  {
   "cell_type": "code",
   "execution_count": null,
   "id": "9c7a8a38",
   "metadata": {},
   "outputs": [],
   "source": [
    "def catering_per_100m(df):\n",
    "    df['catering_per_100m'] = (\n",
    "        (df['osm_catering_points_in_0.005'] / 5 \n",
    "         + df['osm_catering_points_in_0.0075'] / 7.5 \n",
    "         + df['osm_catering_points_in_0.01'] / 10 \n",
    "         + df['osm_catering_points_in_0.001'] / 1) \n",
    "        / 4\n",
    "    )\n",
    "\n",
    "df = df.drop(\n",
    "    [\n",
    "        'osm_catering_points_in_0.005', \n",
    "     'osm_catering_points_in_0.0075',\n",
    "     'osm_catering_points_in_0.01',\n",
    "     'osm_catering_points_in_0.001'\n",
    "    ], axis = 1\n",
    ")\n",
    "\n",
    "train_data = catering_per_100m(train_data)\n",
    "test_data = catering_per_100m(test_data)"
   ]
  },
  {
   "cell_type": "markdown",
   "id": "2de5732e",
   "metadata": {},
   "source": [
    "Работа с выбросами в предсказанных ценах (“подрезка предикта”)"
   ]
  },
  {
   "cell_type": "code",
   "execution_count": null,
   "id": "51c6dbca",
   "metadata": {},
   "outputs": [],
   "source": [
    "output = pd.DataFrame({'id': test_data['id'],\n",
    "                       'per_square_meter_price': automl.predict(test_data).data[:, 0]})\n",
    "output['per_square_meter_price'] = output['per_square_meter_price'] * 0.9\n",
    "\n",
    "output.loc[output['per_square_meter_price'] >= 200000, 'per_square_meter_price'] \\\n",
    "    = output.loc[output['per_square_meter_price'] >= 200000, 'per_square_meter_price'] * 0.9"
   ]
  }
 ],
 "metadata": {
  "kernelspec": {
   "display_name": "Python 3 (ipykernel)",
   "language": "python",
   "name": "python3"
  },
  "language_info": {
   "codemirror_mode": {
    "name": "ipython",
    "version": 3
   },
   "file_extension": ".py",
   "mimetype": "text/x-python",
   "name": "python",
   "nbconvert_exporter": "python",
   "pygments_lexer": "ipython3",
   "version": "3.9.5"
  },
  "toc": {
   "base_numbering": 1,
   "nav_menu": {},
   "number_sections": true,
   "sideBar": true,
   "skip_h1_title": true,
   "title_cell": "Table of Contents",
   "title_sidebar": "Contents",
   "toc_cell": false,
   "toc_position": {},
   "toc_section_display": true,
   "toc_window_display": false
  }
 },
 "nbformat": 4,
 "nbformat_minor": 5
}
